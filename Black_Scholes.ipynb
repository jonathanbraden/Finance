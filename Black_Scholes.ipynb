{
 "cells": [
  {
   "cell_type": "markdown",
   "id": "00b747cb",
   "metadata": {},
   "source": [
    "# Black-Scholes Option Pricing\n",
    "\n",
    "In this notebook I will go through the basics of Black-Scholes derivative pricing,\n",
    "using the case of European put and call options as a simple example."
   ]
  },
  {
   "cell_type": "code",
   "execution_count": 6,
   "id": "aa5f3212",
   "metadata": {},
   "outputs": [],
   "source": [
    "import numpy as np\n",
    "import matplotlib.pyplot as plt\n",
    "from black_scholes import call_european, put_european\n",
    "\n",
    "%matplotlib inline"
   ]
  },
  {
   "cell_type": "markdown",
   "id": "ba7bada4",
   "metadata": {},
   "source": [
    "### Call option dependence on parameters\n",
    "\n",
    "In the Black-Scholes model, the price of a call option depends on:\n",
    " 1. $S$ : The price of the underlying\n",
    " 2. $K$ : The strike price \n",
    " 3. $\\sigma$ : The volatility \n",
    " 4. $T$ : Time to expiration\n",
    " 5. $r$ : Risk-free rate of return\n",
    " 6. $q$ : Continuous rate of dividend returns (if at all) \n",
    " 7. Discounted value of any dividend payouts (if at all) [Not yet implemented]\n",
    " \n",
    "The basic formula is\n",
    "$$ c = Se^{-qT}\\Phi(d_1) - Ke^{-rT}\\Phi(d_2) $$\n",
    "\n",
    "where $\\Phi$ is the cumulative distribution function of the unit normal distribution\n",
    "$$ \\Phi(z) \\equiv \\int_{-\\infty}^z \\frac{e^{-\\frac{1}{2}x^2}}{\\sqrt{2\\pi}} {\\rm d}x $$\n",
    "and\n",
    "$$ d_1 = \\frac{1}{\\sigma\\sqrt{T}}\\left[\\ln(S/K) + \\left(r-q+\\frac{\\sigma^2}{2}\\right)T\\right] $$\n",
    "$$ d_2 = \\frac{1}{\\sigma\\sqrt{T}}\\left[\\ln(S/K) + \\left(r-q-\\frac{\\sigma^2}{2}\\right)T\\right] = d_1 - \\sigma\\sqrt{T}$$\n",
    "\n",
    "It is straightforward to see that \n",
    " - $\\Delta \\equiv \\frac{\\partial c}{\\partial S} = \\Phi(d_1)$, and\n",
    " - $\\Phi(d_2)$ is the probability that the option will be exercised at maturity\n",
    " \n",
    "*NOTE*: When we approach maturity, we can run into numerical problems if we try to naively evaluate this expression."
   ]
  },
  {
   "cell_type": "code",
   "execution_count": null,
   "id": "4aa57eb6",
   "metadata": {},
   "outputs": [],
   "source": []
  },
  {
   "cell_type": "markdown",
   "id": "77ee3ad8",
   "metadata": {},
   "source": [
    "# Monte Carlo Approach"
   ]
  },
  {
   "cell_type": "code",
   "execution_count": null,
   "id": "f5af86bb",
   "metadata": {},
   "outputs": [],
   "source": []
  },
  {
   "cell_type": "markdown",
   "id": "8337807f",
   "metadata": {},
   "source": [
    "# Generating Brownian Motions"
   ]
  },
  {
   "cell_type": "code",
   "execution_count": null,
   "id": "5faa1e6f",
   "metadata": {},
   "outputs": [],
   "source": []
  }
 ],
 "metadata": {
  "kernelspec": {
   "display_name": "Python [conda env:py39]",
   "language": "python",
   "name": "conda-env-py39-py"
  },
  "language_info": {
   "codemirror_mode": {
    "name": "ipython",
    "version": 3
   },
   "file_extension": ".py",
   "mimetype": "text/x-python",
   "name": "python",
   "nbconvert_exporter": "python",
   "pygments_lexer": "ipython3",
   "version": "3.9.15"
  }
 },
 "nbformat": 4,
 "nbformat_minor": 5
}
